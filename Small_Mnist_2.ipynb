{
 "cells": [
  {
   "cell_type": "code",
   "execution_count": 1,
   "metadata": {
    "collapsed": false
   },
   "outputs": [],
   "source": [
    "import numpy as np\n",
    "import matplotlib.pyplot as plt\n",
    "from read_dataset import load_mnist\n",
    "from sklearn import preprocessing\n",
    "from scipy.io import loadmat\n",
    "#some necessary stuff for formatting outputs(You can skip it!!)\n",
    "%matplotlib inline\n",
    "plt.rcParams['figure.figsize'] = (5.0, 4.0) # set default size of plots\n",
    "plt.rcParams['image.interpolation'] = 'nearest'\n",
    "plt.rcParams['image.cmap'] = 'gray'\n",
    "%load_ext autoreload\n",
    "%autoreload 2"
   ]
  },
  {
   "cell_type": "code",
   "execution_count": 2,
   "metadata": {
    "collapsed": false
   },
   "outputs": [],
   "source": [
    "data = loadmat('matlab.mat') \n",
    "X_train = data['X']  \n",
    "y = data['y']"
   ]
  },
  {
   "cell_type": "code",
   "execution_count": 3,
   "metadata": {
    "collapsed": false
   },
   "outputs": [
    {
     "data": {
      "text/plain": [
       "(5000, 10)"
      ]
     },
     "execution_count": 3,
     "metadata": {},
     "output_type": "execute_result"
    }
   ],
   "source": [
    "from sklearn.preprocessing import OneHotEncoder  \n",
    "encoder = OneHotEncoder(sparse=False)  \n",
    "y_train = encoder.fit_transform(y)  \n",
    "y_train.shape"
   ]
  },
  {
   "cell_type": "code",
   "execution_count": 4,
   "metadata": {
    "collapsed": false
   },
   "outputs": [
    {
     "name": "stdout",
     "output_type": "stream",
     "text": [
      "Num of tuples: 5000\n"
     ]
    }
   ],
   "source": [
    "input_size = 400  \n",
    "hidden_size = 15  \n",
    "num_labels = 10  \n",
    "learning_rate = 1e-4\n",
    "\n",
    "W1 = 0.01 * np.random.randn(input_size,hidden_size) # new Array of [2 x 10]\n",
    "b1 = np.zeros((1,hidden_size)) #new araay of [1 x 100]\n",
    "W2 = 0.01 * np.random.randn(hidden_size,num_labels) # new array of [10 x 3]\n",
    "b2 = np.zeros((1,num_labels)) # new array of [1 x 3]\n",
    "\n",
    "# some hyperparameters\n",
    "step_size = 1e-2\n",
    "reg = 1e-1 # regularization strength\n",
    "\n",
    "# gradient descent loop\n",
    "num_examples = X_train.shape[0]\n",
    "print('Num of tuples:',num_examples)\n",
    "\n",
    "def get_random_batch(X, Y, batch_size):\n",
    "    N,_ = X.shape\n",
    "    indexes = np.random.randint(N,size=batch_size)\n",
    "    batch_x, batch_y = np.copy(X[indexes]),np.copy(Y[indexes])\n",
    "    return batch_x, batch_y"
   ]
  },
  {
   "cell_type": "code",
   "execution_count": 5,
   "metadata": {
    "collapsed": true
   },
   "outputs": [],
   "source": [
    "def sigmoid(z):\n",
    "    return (1/(1+np.exp(-z)))\n",
    "def sigmoid_gradient(z):\n",
    "    return sigmoid(z)*(1-sigmoid(z))"
   ]
  },
  {
   "cell_type": "code",
   "execution_count": 6,
   "metadata": {
    "collapsed": false
   },
   "outputs": [],
   "source": [
    "def cost(X_train,y_train,W1,W2,b1,b2):\n",
    "    num_examples = X_train.shape[0]\n",
    "    z1 = np.dot(X_train, W1) + b1 # z1 = X * W1 + b1\n",
    "    #print('W1',np.max(W1))\n",
    "    #print('Z1',np.max(z1))\n",
    "    hidden_layer = sigmoid(z1) # note, ReLU activation where ReLU(x) = max(0,x)\n",
    "    z2 = np.dot(hidden_layer, W2) + b2\n",
    "    #print('Z2',np.max(z2))\n",
    "    scores = sigmoid(z2) \n",
    "    #print('Scores',np.max(scores))\n",
    "    data_loss = np.sum(np.sum((scores-y_train)**2,axis=0))/(2*num_examples)\n",
    "    #print('Loss',data_loss)\n",
    "    loss = data_loss\n",
    "    \n",
    "    return z1,hidden_layer,scores,loss"
   ]
  },
  {
   "cell_type": "code",
   "execution_count": 7,
   "metadata": {
    "collapsed": false
   },
   "outputs": [
    {
     "name": "stdout",
     "output_type": "stream",
     "text": [
      "iteration 0: loss 1.249499\n",
      "iteration 100: loss 0.231450\n",
      "iteration 200: loss 0.110815\n",
      "iteration 300: loss 0.060265\n",
      "iteration 400: loss 0.099393\n",
      "iteration 500: loss 0.086695\n",
      "iteration 600: loss 0.074479\n",
      "iteration 700: loss 0.041487\n",
      "iteration 800: loss 0.038815\n",
      "iteration 900: loss 0.051346\n"
     ]
    }
   ],
   "source": [
    "loss_his = []\n",
    "accuracy_history = []\n",
    "for i in range(1000):\n",
    "    X_batch,y_batch = get_random_batch(X_train,y_train,128)\n",
    "    z1,hidden_layer,scores,loss = cost(X_batch,y_batch,W1,W2,b1,b2)\n",
    "    loss_his.append(loss)\n",
    "    s = sigmoid(np.dot(sigmoid(np.dot(X_batch, W1) + b1), W2) + b2)\n",
    "    p = np.argmax(s,axis=1)\n",
    "    q = np.argmax(y_batch,axis=1)\n",
    "    accuracy  = np.mean(p == q)\n",
    "    accuracy_history.append(accuracy)\n",
    "    if i % 100 == 0:\n",
    "        print(\"iteration %d: loss %f\" % (i, loss))\n",
    "    # compute the gradient on scores\n",
    "    error = (scores-y_batch)\n",
    "    # backpropate the gradient to the parameters\n",
    "    # first backprop into parameters W2 and b2\n",
    "    dW2 = np.dot(hidden_layer.T, error) \n",
    "    db2 = np.sum(error, axis=0, keepdims=True)\n",
    "    # next backprop into hidden layer\n",
    "    dhidden = np.dot(error, W2.T) * sigmoid_gradient(z1)\n",
    "    dW1 = np.dot(X_batch.T, dhidden) \n",
    "    db1 = np.sum(dhidden, axis=0, keepdims=True)\n",
    "\n",
    "    # perform a parameter update\n",
    "    W1 += -step_size * dW1\n",
    "    b1 += -step_size * db1\n",
    "    W2 += -step_size * dW2\n",
    "    b2 += -step_size * db2"
   ]
  },
  {
   "cell_type": "code",
   "execution_count": 8,
   "metadata": {
    "collapsed": false
   },
   "outputs": [
    {
     "data": {
      "text/plain": [
       "[<matplotlib.lines.Line2D at 0xdec90be828>]"
      ]
     },
     "execution_count": 8,
     "metadata": {},
     "output_type": "execute_result"
    },
    {
     "data": {
      "image/png": "[encoded data removed]",
      "text/plain": [
       "<matplotlib.figure.Figure at 0xdec8c736d8>"
      ]
     },
     "metadata": {},
     "output_type": "display_data"
    }
   ],
   "source": [
    "plt.subplot(2, 1, 1)\n",
    "plt.plot(loss_his)\n",
    "plt.subplot(2, 1, 2)\n",
    "plt.plot(accuracy_history)"
   ]
  },
  {
   "cell_type": "code",
   "execution_count": 9,
   "metadata": {
    "collapsed": false
   },
   "outputs": [
    {
     "data": {
      "image/png": "[encoded data removed]",
      "text/plain": [
       "<matplotlib.figure.Figure at 0xdec91269b0>"
      ]
     },
     "metadata": {},
     "output_type": "display_data"
    },
    {
     "name": "stdout",
     "output_type": "stream",
     "text": [
      "[7 4 1 9]\n"
     ]
    }
   ],
   "source": [
    "X_batch,_ = get_random_batch(X_train,y_train,4)\n",
    "scor = sigmoid(np.dot(sigmoid(np.dot(X_batch, W1) + b1), W2) + b2)\n",
    "fig = plt.figure()\n",
    "a=fig.add_subplot(1,2,1)\n",
    "imgplot = plt.imshow(X_batch[0].reshape((20,20)).T)\n",
    "a=fig.add_subplot(1,2,2)\n",
    "imgplot = plt.imshow(X_batch[1].reshape((20,20)).T)\n",
    "plt.show()\n",
    "print(np.argmax(scor,axis=1))"
   ]
  },
  {
   "cell_type": "code",
   "execution_count": 10,
   "metadata": {
    "collapsed": false
   },
   "outputs": [
    {
     "name": "stdout",
     "output_type": "stream",
     "text": [
      "Training accuracy: 0.947600\n"
     ]
    }
   ],
   "source": [
    "acc = 0\n",
    "for n in range(10):\n",
    "    scores = sigmoid(np.dot(sigmoid(np.dot(X_train, W1) + b1), W2) + b2)\n",
    "    pr_class = np.argmax(scores,axis=1)\n",
    "    acc += np.mean(pr_class[n*500:(n+1)*500] == y[n*500:(n+1)*500])\n",
    "acc /= 10\n",
    "print('Training accuracy: %f' % (acc))"
   ]
  },
  {
   "cell_type": "code",
   "execution_count": null,
   "metadata": {
    "collapsed": true
   },
   "outputs": [],
   "source": []
  }
 ],
 "metadata": {
  "kernelspec": {
   "display_name": "Python 3",
   "language": "python",
   "name": "python3"
  },
  "language_info": {
   "codemirror_mode": {
    "name": "ipython",
    "version": 3
   },
   "file_extension": ".py",
   "mimetype": "text/x-python",
   "name": "python",
   "nbconvert_exporter": "python",
   "pygments_lexer": "ipython3",
   "version": "3.6.0"
  }
 },
 "nbformat": 4,
 "nbformat_minor": 2
}
